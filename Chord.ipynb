{
 "cells": [
  {
   "cell_type": "markdown",
   "metadata": {},
   "source": [
    "# MIDI Chord Extraction"
   ]
  },
  {
   "attachments": {},
   "cell_type": "markdown",
   "metadata": {},
   "source": [
    "## 1. Preparation"
   ]
  },
  {
   "cell_type": "code",
   "execution_count": 3,
   "metadata": {},
   "outputs": [
    {
     "name": "stdout",
     "output_type": "stream",
     "text": [
      "Done\n"
     ]
    }
   ],
   "source": [
    "import numpy as np\n",
    "import matplotlib.pyplot as plt\n",
    "import pandas as pd\n",
    "from statistics import mean\n",
    "from statistics import median\n",
    "from miditoolkit.midi import parser as mid_parser  \n",
    "from miditoolkit.midi import containers as ct\n",
    "from chorder import Chord, Dechorder\n",
    "import os\n",
    "\n",
    "from tool_wave import *\n",
    "from tool_midi import *\n",
    "from tool_generate import *\n",
    "from tool_fix import *\n",
    "from tool_chord import *\n",
    "\n",
    "print(\"Done\")"
   ]
  },
  {
   "attachments": {},
   "cell_type": "markdown",
   "metadata": {},
   "source": [
    "## 2. Chord Extraction"
   ]
  },
  {
   "cell_type": "code",
   "execution_count": 4,
   "metadata": {},
   "outputs": [
    {
     "name": "stdout",
     "output_type": "stream",
     "text": [
      "bar\t beat\t step\t minnote\t\n",
      "480 \t 120 \t 30 \t 30 \t\n",
      "\n"
     ]
    }
   ],
   "source": [
    "midipath = './files/LYA_G.mid'\n",
    "midiobj = mid_parser.MidiFile(midipath)\n",
    "scale = music_scale(midiobj)\n",
    "mainnote = scale[0]\n",
    "bar, beat, step, minnote = stock_note_length(midiobj)"
   ]
  },
  {
   "cell_type": "code",
   "execution_count": 5,
   "metadata": {},
   "outputs": [
    {
     "data": {
      "text/html": [
       "<div>\n",
       "<style scoped>\n",
       "    .dataframe tbody tr th:only-of-type {\n",
       "        vertical-align: middle;\n",
       "    }\n",
       "\n",
       "    .dataframe tbody tr th {\n",
       "        vertical-align: top;\n",
       "    }\n",
       "\n",
       "    .dataframe thead th {\n",
       "        text-align: right;\n",
       "    }\n",
       "</style>\n",
       "<table border=\"1\" class=\"dataframe\">\n",
       "  <thead>\n",
       "    <tr style=\"text-align: right;\">\n",
       "      <th></th>\n",
       "      <th>name</th>\n",
       "      <th>root_pc</th>\n",
       "      <th>quality</th>\n",
       "      <th>bass_pc</th>\n",
       "    </tr>\n",
       "  </thead>\n",
       "  <tbody>\n",
       "    <tr>\n",
       "      <th>0</th>\n",
       "      <td>Em</td>\n",
       "      <td>4</td>\n",
       "      <td>m</td>\n",
       "      <td>4</td>\n",
       "    </tr>\n",
       "    <tr>\n",
       "      <th>1</th>\n",
       "      <td>Em</td>\n",
       "      <td>4</td>\n",
       "      <td>m</td>\n",
       "      <td>4</td>\n",
       "    </tr>\n",
       "    <tr>\n",
       "      <th>2</th>\n",
       "      <td>Em7</td>\n",
       "      <td>4</td>\n",
       "      <td>m7</td>\n",
       "      <td>4</td>\n",
       "    </tr>\n",
       "    <tr>\n",
       "      <th>3</th>\n",
       "      <td>Em7</td>\n",
       "      <td>4</td>\n",
       "      <td>m7</td>\n",
       "      <td>4</td>\n",
       "    </tr>\n",
       "    <tr>\n",
       "      <th>4</th>\n",
       "      <td>CM/E</td>\n",
       "      <td>0</td>\n",
       "      <td>M</td>\n",
       "      <td>4</td>\n",
       "    </tr>\n",
       "  </tbody>\n",
       "</table>\n",
       "</div>"
      ],
      "text/plain": [
       "   name  root_pc quality  bass_pc\n",
       "0    Em        4       m        4\n",
       "1    Em        4       m        4\n",
       "2   Em7        4      m7        4\n",
       "3   Em7        4      m7        4\n",
       "4  CM/E        0       M        4"
      ]
     },
     "execution_count": 5,
     "metadata": {},
     "output_type": "execute_result"
    }
   ],
   "source": [
    "df_chords, df_chordsC = MIDIchord(midiobj)      # mostly used\n",
    "df_chords.head()                                # actually we only need root_pc and quality"
   ]
  },
  {
   "attachments": {},
   "cell_type": "markdown",
   "metadata": {},
   "source": [
    "## 3. Chord To MIDI"
   ]
  },
  {
   "cell_type": "code",
   "execution_count": 6,
   "metadata": {},
   "outputs": [
    {
     "name": "stdout",
     "output_type": "stream",
     "text": [
      "[4, 7, 11]\n",
      "[4, 7, 11]\n",
      "[4, 7, 11, 14]\n",
      "[4, 7, 11, 14]\n",
      "[0, 4, 7]\n"
     ]
    }
   ],
   "source": [
    "chordnotes = chordlock(df_chords)\n",
    "for i in chordnotes[:5]:\n",
    "    print(i)"
   ]
  },
  {
   "cell_type": "code",
   "execution_count": 7,
   "metadata": {},
   "outputs": [
    {
     "name": "stdout",
     "output_type": "stream",
     "text": [
      "[4, 7, 11] \t 2\n",
      "[4, 7, 11, 14] \t 2\n",
      "[0, 4, 7] \t 4\n",
      "[7, 11, 14] \t 4\n",
      "[2, 6, 9] \t 4\n"
     ]
    }
   ],
   "source": [
    "chordinfo = chordmerge(chordnotes)\n",
    "for info in chordinfo[:5]:\n",
    "    print(info[0], '\\t', info[1])       # pitch and duration"
   ]
  },
  {
   "cell_type": "code",
   "execution_count": 8,
   "metadata": {},
   "outputs": [
    {
     "data": {
      "text/html": [
       "<div>\n",
       "<style scoped>\n",
       "    .dataframe tbody tr th:only-of-type {\n",
       "        vertical-align: middle;\n",
       "    }\n",
       "\n",
       "    .dataframe tbody tr th {\n",
       "        vertical-align: top;\n",
       "    }\n",
       "\n",
       "    .dataframe thead th {\n",
       "        text-align: right;\n",
       "    }\n",
       "</style>\n",
       "<table border=\"1\" class=\"dataframe\">\n",
       "  <thead>\n",
       "    <tr style=\"text-align: right;\">\n",
       "      <th></th>\n",
       "      <th>start</th>\n",
       "      <th>end</th>\n",
       "      <th>pitch</th>\n",
       "      <th>velocity</th>\n",
       "    </tr>\n",
       "  </thead>\n",
       "  <tbody>\n",
       "    <tr>\n",
       "      <th>0</th>\n",
       "      <td>0</td>\n",
       "      <td>240</td>\n",
       "      <td>52</td>\n",
       "      <td>100</td>\n",
       "    </tr>\n",
       "    <tr>\n",
       "      <th>1</th>\n",
       "      <td>0</td>\n",
       "      <td>240</td>\n",
       "      <td>55</td>\n",
       "      <td>100</td>\n",
       "    </tr>\n",
       "    <tr>\n",
       "      <th>2</th>\n",
       "      <td>0</td>\n",
       "      <td>240</td>\n",
       "      <td>59</td>\n",
       "      <td>100</td>\n",
       "    </tr>\n",
       "    <tr>\n",
       "      <th>3</th>\n",
       "      <td>240</td>\n",
       "      <td>480</td>\n",
       "      <td>52</td>\n",
       "      <td>100</td>\n",
       "    </tr>\n",
       "    <tr>\n",
       "      <th>4</th>\n",
       "      <td>240</td>\n",
       "      <td>480</td>\n",
       "      <td>55</td>\n",
       "      <td>100</td>\n",
       "    </tr>\n",
       "  </tbody>\n",
       "</table>\n",
       "</div>"
      ],
      "text/plain": [
       "  start  end pitch velocity\n",
       "0     0  240    52      100\n",
       "1     0  240    55      100\n",
       "2     0  240    59      100\n",
       "3   240  480    52      100\n",
       "4   240  480    55      100"
      ]
     },
     "execution_count": 8,
     "metadata": {},
     "output_type": "execute_result"
    }
   ],
   "source": [
    "octave = 4\n",
    "newtrack = chordtrack(chordinfo, octave, beat)\n",
    "newtrack.head()\n",
    "# then we can add a new track in midiobj"
   ]
  },
  {
   "cell_type": "code",
   "execution_count": 9,
   "metadata": {},
   "outputs": [
    {
     "name": "stdout",
     "output_type": "stream",
     "text": [
      " > ticks per beat: 120\n",
      "\n",
      " > time signatures: 4 / 4\n",
      "\n",
      " > tempo: 89.9999550000225\n",
      "\n",
      " > number of tracks: 2\n",
      "     > number of notes for track track1 : 22\n",
      "     > number of notes for track chord : 16\n",
      "\n"
     ]
    }
   ],
   "source": [
    "midipath = './files/LYA_G_noChord.mid'\n",
    "noChord = mid_parser.MidiFile(midipath)\n",
    "\n",
    "withChord = add_track(noChord, newtrack)\n",
    "withChord.dump('./files/LYA_G_withChord.mid')\n",
    "parseMIDI(withChord)"
   ]
  },
  {
   "attachments": {},
   "cell_type": "markdown",
   "metadata": {},
   "source": [
    "## 4. Try to extract chord from FX 4.mid\n",
    "\n",
    "often with incomplete results"
   ]
  },
  {
   "cell_type": "code",
   "execution_count": 10,
   "metadata": {},
   "outputs": [
    {
     "name": "stdout",
     "output_type": "stream",
     "text": [
      "bar\t beat\t step\t minnote\t\n",
      "480 \t 120 \t 30 \t 30 \t\n",
      "\n"
     ]
    }
   ],
   "source": [
    "midipath = './files/FX 4.mid'\n",
    "midiobj = mid_parser.MidiFile(midipath)\n",
    "scale = music_scale(midiobj)\n",
    "mainnote = scale[0]\n",
    "bar, beat, step, minnote = stock_note_length(midiobj)"
   ]
  },
  {
   "cell_type": "code",
   "execution_count": 12,
   "metadata": {},
   "outputs": [
    {
     "data": {
      "text/html": [
       "<div>\n",
       "<style scoped>\n",
       "    .dataframe tbody tr th:only-of-type {\n",
       "        vertical-align: middle;\n",
       "    }\n",
       "\n",
       "    .dataframe tbody tr th {\n",
       "        vertical-align: top;\n",
       "    }\n",
       "\n",
       "    .dataframe thead th {\n",
       "        text-align: right;\n",
       "    }\n",
       "</style>\n",
       "<table border=\"1\" class=\"dataframe\">\n",
       "  <thead>\n",
       "    <tr style=\"text-align: right;\">\n",
       "      <th></th>\n",
       "      <th>name</th>\n",
       "      <th>root_pc</th>\n",
       "      <th>quality</th>\n",
       "      <th>bass_pc</th>\n",
       "    </tr>\n",
       "  </thead>\n",
       "  <tbody>\n",
       "    <tr>\n",
       "      <th>0</th>\n",
       "      <td>DM/A</td>\n",
       "      <td>2</td>\n",
       "      <td>M</td>\n",
       "      <td>9</td>\n",
       "    </tr>\n",
       "    <tr>\n",
       "      <th>1</th>\n",
       "      <td>GM</td>\n",
       "      <td>7</td>\n",
       "      <td>M</td>\n",
       "      <td>7</td>\n",
       "    </tr>\n",
       "    <tr>\n",
       "      <th>2</th>\n",
       "      <td>None</td>\n",
       "      <td>-1</td>\n",
       "      <td>Empty</td>\n",
       "      <td>-1</td>\n",
       "    </tr>\n",
       "    <tr>\n",
       "      <th>3</th>\n",
       "      <td>None</td>\n",
       "      <td>-1</td>\n",
       "      <td>Empty</td>\n",
       "      <td>-1</td>\n",
       "    </tr>\n",
       "    <tr>\n",
       "      <th>4</th>\n",
       "      <td>None</td>\n",
       "      <td>-1</td>\n",
       "      <td>Empty</td>\n",
       "      <td>-1</td>\n",
       "    </tr>\n",
       "    <tr>\n",
       "      <th>5</th>\n",
       "      <td>None</td>\n",
       "      <td>-1</td>\n",
       "      <td>Empty</td>\n",
       "      <td>-1</td>\n",
       "    </tr>\n",
       "    <tr>\n",
       "      <th>6</th>\n",
       "      <td>None</td>\n",
       "      <td>-1</td>\n",
       "      <td>Empty</td>\n",
       "      <td>-1</td>\n",
       "    </tr>\n",
       "    <tr>\n",
       "      <th>7</th>\n",
       "      <td>None</td>\n",
       "      <td>-1</td>\n",
       "      <td>Empty</td>\n",
       "      <td>-1</td>\n",
       "    </tr>\n",
       "    <tr>\n",
       "      <th>8</th>\n",
       "      <td>None</td>\n",
       "      <td>-1</td>\n",
       "      <td>Empty</td>\n",
       "      <td>-1</td>\n",
       "    </tr>\n",
       "    <tr>\n",
       "      <th>9</th>\n",
       "      <td>None</td>\n",
       "      <td>-1</td>\n",
       "      <td>Empty</td>\n",
       "      <td>-1</td>\n",
       "    </tr>\n",
       "    <tr>\n",
       "      <th>10</th>\n",
       "      <td>Co</td>\n",
       "      <td>0</td>\n",
       "      <td>o</td>\n",
       "      <td>0</td>\n",
       "    </tr>\n",
       "    <tr>\n",
       "      <th>11</th>\n",
       "      <td>BM</td>\n",
       "      <td>11</td>\n",
       "      <td>M</td>\n",
       "      <td>11</td>\n",
       "    </tr>\n",
       "    <tr>\n",
       "      <th>12</th>\n",
       "      <td>None</td>\n",
       "      <td>-1</td>\n",
       "      <td>Empty</td>\n",
       "      <td>-1</td>\n",
       "    </tr>\n",
       "    <tr>\n",
       "      <th>13</th>\n",
       "      <td>None</td>\n",
       "      <td>-1</td>\n",
       "      <td>Empty</td>\n",
       "      <td>-1</td>\n",
       "    </tr>\n",
       "    <tr>\n",
       "      <th>14</th>\n",
       "      <td>None</td>\n",
       "      <td>-1</td>\n",
       "      <td>Empty</td>\n",
       "      <td>-1</td>\n",
       "    </tr>\n",
       "    <tr>\n",
       "      <th>15</th>\n",
       "      <td>None</td>\n",
       "      <td>-1</td>\n",
       "      <td>Empty</td>\n",
       "      <td>-1</td>\n",
       "    </tr>\n",
       "    <tr>\n",
       "      <th>16</th>\n",
       "      <td>Co</td>\n",
       "      <td>0</td>\n",
       "      <td>o</td>\n",
       "      <td>0</td>\n",
       "    </tr>\n",
       "    <tr>\n",
       "      <th>17</th>\n",
       "      <td>CM/G</td>\n",
       "      <td>0</td>\n",
       "      <td>M</td>\n",
       "      <td>7</td>\n",
       "    </tr>\n",
       "    <tr>\n",
       "      <th>18</th>\n",
       "      <td>None</td>\n",
       "      <td>-1</td>\n",
       "      <td>Empty</td>\n",
       "      <td>-1</td>\n",
       "    </tr>\n",
       "    <tr>\n",
       "      <th>19</th>\n",
       "      <td>None</td>\n",
       "      <td>-1</td>\n",
       "      <td>Empty</td>\n",
       "      <td>-1</td>\n",
       "    </tr>\n",
       "  </tbody>\n",
       "</table>\n",
       "</div>"
      ],
      "text/plain": [
       "    name  root_pc quality  bass_pc\n",
       "0   DM/A        2       M        9\n",
       "1     GM        7       M        7\n",
       "2   None       -1   Empty       -1\n",
       "3   None       -1   Empty       -1\n",
       "4   None       -1   Empty       -1\n",
       "5   None       -1   Empty       -1\n",
       "6   None       -1   Empty       -1\n",
       "7   None       -1   Empty       -1\n",
       "8   None       -1   Empty       -1\n",
       "9   None       -1   Empty       -1\n",
       "10    Co        0       o        0\n",
       "11    BM       11       M       11\n",
       "12  None       -1   Empty       -1\n",
       "13  None       -1   Empty       -1\n",
       "14  None       -1   Empty       -1\n",
       "15  None       -1   Empty       -1\n",
       "16    Co        0       o        0\n",
       "17  CM/G        0       M        7\n",
       "18  None       -1   Empty       -1\n",
       "19  None       -1   Empty       -1"
      ]
     },
     "execution_count": 12,
     "metadata": {},
     "output_type": "execute_result"
    }
   ],
   "source": [
    "df_chords, df_chordsC = MIDIchord(midiobj)\n",
    "df_chords"
   ]
  }
 ],
 "metadata": {
  "kernelspec": {
   "display_name": "Python 3.9.1 64-bit",
   "language": "python",
   "name": "python3"
  },
  "language_info": {
   "codemirror_mode": {
    "name": "ipython",
    "version": 3
   },
   "file_extension": ".py",
   "mimetype": "text/x-python",
   "name": "python",
   "nbconvert_exporter": "python",
   "pygments_lexer": "ipython3",
   "version": "3.9.1"
  },
  "orig_nbformat": 4,
  "vscode": {
   "interpreter": {
    "hash": "313f8f4baf0bb9a96fcfd741838f783ab81c8d5c521a85acc9a67782169d3175"
   }
  }
 },
 "nbformat": 4,
 "nbformat_minor": 2
}
