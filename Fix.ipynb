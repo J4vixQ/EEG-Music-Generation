{
 "cells": [
  {
   "cell_type": "markdown",
   "metadata": {},
   "source": [
    "# MIDI Fixation For Pitch"
   ]
  },
  {
   "cell_type": "markdown",
   "metadata": {},
   "source": [
    "## 1. Preparations"
   ]
  },
  {
   "cell_type": "code",
   "execution_count": 1,
   "metadata": {},
   "outputs": [
    {
     "name": "stdout",
     "output_type": "stream",
     "text": [
      "Done\n"
     ]
    }
   ],
   "source": [
    "import numpy as np\n",
    "import matplotlib.pyplot as plt\n",
    "import pandas as pd\n",
    "from statistics import mean\n",
    "from statistics import median\n",
    "from miditoolkit.midi import parser as mid_parser  \n",
    "from miditoolkit.midi import containers as ct\n",
    "\n",
    "from tool_wave import *\n",
    "from tool_midi import *\n",
    "from tool_generate import *\n",
    "from tool_fix import *\n",
    "print(\"Done\")"
   ]
  },
  {
   "cell_type": "code",
   "execution_count": 2,
   "metadata": {},
   "outputs": [
    {
     "data": {
      "text/html": [
       "<div>\n",
       "<style scoped>\n",
       "    .dataframe tbody tr th:only-of-type {\n",
       "        vertical-align: middle;\n",
       "    }\n",
       "\n",
       "    .dataframe tbody tr th {\n",
       "        vertical-align: top;\n",
       "    }\n",
       "\n",
       "    .dataframe thead th {\n",
       "        text-align: right;\n",
       "    }\n",
       "</style>\n",
       "<table border=\"1\" class=\"dataframe\">\n",
       "  <thead>\n",
       "    <tr style=\"text-align: right;\">\n",
       "      <th></th>\n",
       "      <th>start</th>\n",
       "      <th>end</th>\n",
       "      <th>pitch</th>\n",
       "      <th>velocity</th>\n",
       "    </tr>\n",
       "  </thead>\n",
       "  <tbody>\n",
       "    <tr>\n",
       "      <th>count</th>\n",
       "      <td>40.000000</td>\n",
       "      <td>40.000000</td>\n",
       "      <td>40.000000</td>\n",
       "      <td>40.000000</td>\n",
       "    </tr>\n",
       "    <tr>\n",
       "      <th>mean</th>\n",
       "      <td>1170.000000</td>\n",
       "      <td>1230.000000</td>\n",
       "      <td>59.600000</td>\n",
       "      <td>76.550000</td>\n",
       "    </tr>\n",
       "    <tr>\n",
       "      <th>std</th>\n",
       "      <td>701.427117</td>\n",
       "      <td>701.427117</td>\n",
       "      <td>9.927429</td>\n",
       "      <td>16.763743</td>\n",
       "    </tr>\n",
       "    <tr>\n",
       "      <th>min</th>\n",
       "      <td>0.000000</td>\n",
       "      <td>60.000000</td>\n",
       "      <td>36.000000</td>\n",
       "      <td>40.000000</td>\n",
       "    </tr>\n",
       "    <tr>\n",
       "      <th>25%</th>\n",
       "      <td>585.000000</td>\n",
       "      <td>645.000000</td>\n",
       "      <td>55.000000</td>\n",
       "      <td>67.750000</td>\n",
       "    </tr>\n",
       "    <tr>\n",
       "      <th>50%</th>\n",
       "      <td>1170.000000</td>\n",
       "      <td>1230.000000</td>\n",
       "      <td>60.000000</td>\n",
       "      <td>79.500000</td>\n",
       "    </tr>\n",
       "    <tr>\n",
       "      <th>75%</th>\n",
       "      <td>1755.000000</td>\n",
       "      <td>1815.000000</td>\n",
       "      <td>66.000000</td>\n",
       "      <td>85.250000</td>\n",
       "    </tr>\n",
       "    <tr>\n",
       "      <th>max</th>\n",
       "      <td>2340.000000</td>\n",
       "      <td>2400.000000</td>\n",
       "      <td>84.000000</td>\n",
       "      <td>120.000000</td>\n",
       "    </tr>\n",
       "  </tbody>\n",
       "</table>\n",
       "</div>"
      ],
      "text/plain": [
       "             start          end      pitch    velocity\n",
       "count    40.000000    40.000000  40.000000   40.000000\n",
       "mean   1170.000000  1230.000000  59.600000   76.550000\n",
       "std     701.427117   701.427117   9.927429   16.763743\n",
       "min       0.000000    60.000000  36.000000   40.000000\n",
       "25%     585.000000   645.000000  55.000000   67.750000\n",
       "50%    1170.000000  1230.000000  60.000000   79.500000\n",
       "75%    1755.000000  1815.000000  66.000000   85.250000\n",
       "max    2340.000000  2400.000000  84.000000  120.000000"
      ]
     },
     "execution_count": 2,
     "metadata": {},
     "output_type": "execute_result"
    }
   ],
   "source": [
    "midipath = './files/Rule 1.mid'\n",
    "# midipath = 'C:/Users/J4vix/Desktop/SRP/Long Rule 1.mid'\n",
    "midiobj = mid_parser.MidiFile(midipath)\n",
    "df_general = MIDIgeneral(midiobj)\n",
    "df_instruments = MIDIinstrument(midiobj)\n",
    "tracks, names = MIDItrack(midiobj)\n",
    "\n",
    "# use track 0\n",
    "df = tracks[0]\n",
    "df.describe()"
   ]
  },
  {
   "cell_type": "markdown",
   "metadata": {},
   "source": [
    "## 2. Notes And Tonality"
   ]
  },
  {
   "cell_type": "code",
   "execution_count": 3,
   "metadata": {},
   "outputs": [
    {
     "data": {
      "image/png": "[encoded data removed]",
      "text/plain": [
       "<Figure size 432x288 with 1 Axes>"
      ]
     },
     "metadata": {
      "needs_background": "light"
     },
     "output_type": "display_data"
    }
   ],
   "source": [
    "dict_note_count = count_note(df.pitch)\n",
    "view_notes(dict_note_count)"
   ]
  },
  {
   "cell_type": "code",
   "execution_count": 4,
   "metadata": {},
   "outputs": [
    {
     "name": "stdout",
     "output_type": "stream",
     "text": [
      "[7, 9, 11, 0, 2, 4, 6]\n"
     ]
    }
   ],
   "source": [
    "music_scale = natural_scale(dict_note_count)\n",
    "print(music_scale)"
   ]
  },
  {
   "attachments": {},
   "cell_type": "markdown",
   "metadata": {},
   "source": [
    "## 3. How To Fix ?\n",
    "\n",
    "FX 1: Delete Outliers\n",
    "\n",
    "FX 2: Move Towards C5\n",
    "\n",
    "FX 3: Move Towards The Previous Note\n",
    "\n",
    "FX 4: Bridge"
   ]
  },
  {
   "attachments": {},
   "cell_type": "markdown",
   "metadata": {},
   "source": [
    "## Fix 1 : Delete Outliers"
   ]
  },
  {
   "cell_type": "code",
   "execution_count": 5,
   "metadata": {},
   "outputs": [
    {
     "data": {
      "image/png": "[encoded data removed]",
      "text/plain": [
       "<Figure size 432x288 with 1 Axes>"
      ]
     },
     "metadata": {
      "needs_background": "light"
     },
     "output_type": "display_data"
    }
   ],
   "source": [
    "df1 = FX1(df, music_scale)\n",
    "dict_note_count = count_note(df1.pitch)\n",
    "view_notes(dict_note_count)"
   ]
  },
  {
   "cell_type": "code",
   "execution_count": 6,
   "metadata": {},
   "outputs": [
    {
     "name": "stdout",
     "output_type": "stream",
     "text": [
      "\n",
      " > ticks per beat: 120\n",
      "\n",
      " > time signatures: 4 / 4\n",
      "\n",
      " > tempo: 128.04097311139566\n",
      "\n",
      " > number of tracks: 1\n",
      "     > number of notes for track AF7 : 26\n",
      "\n"
     ]
    }
   ],
   "source": [
    "newmidi = mid_parser.MidiFile()\n",
    "newmidi = generalMIDI(df_general, newmidi)\n",
    "newmidi = instrumentMIDI(df_instruments, newmidi)\n",
    "newmidi = trackMIDI([df1], names, newmidi)\n",
    "parseMIDI(newmidi)\n",
    "newmidi.dump('./files/FX 1.mid')"
   ]
  },
  {
   "attachments": {},
   "cell_type": "markdown",
   "metadata": {},
   "source": [
    "## Fix 2 : Move Towards C5\n",
    "\n",
    "or move away from C5, or a specific note."
   ]
  },
  {
   "cell_type": "code",
   "execution_count": 7,
   "metadata": {},
   "outputs": [
    {
     "name": "stdout",
     "output_type": "stream",
     "text": [
      "[7, 9, 11, 0, 2, 4, 6]\n",
      "\n"
     ]
    },
    {
     "data": {
      "image/png": "[encoded data removed]",
      "text/plain": [
       "<Figure size 432x288 with 1 Axes>"
      ]
     },
     "metadata": {
      "needs_background": "light"
     },
     "output_type": "display_data"
    }
   ],
   "source": [
    "print(music_scale)      # pitch%12 should be in this list\n",
    "\n",
    "df2 = FX2(df, music_scale)\n",
    "dict_note_count = count_note(df2.pitch)\n",
    "view_notes(dict_note_count)\n",
    "\n",
    "newmidi = mid_parser.MidiFile()\n",
    "newmidi = generalMIDI(df_general, newmidi)\n",
    "newmidi = instrumentMIDI(df_instruments, newmidi)\n",
    "newmidi = trackMIDI([df2], names, newmidi)\n",
    "newmidi.dump('./files/FX 2.mid')"
   ]
  },
  {
   "attachments": {},
   "cell_type": "markdown",
   "metadata": {},
   "source": [
    "## Fix 3 : Move Towards The Previous Note\n",
    "\n",
    "or move away from the previous note, or the following note. "
   ]
  },
  {
   "cell_type": "code",
   "execution_count": 8,
   "metadata": {},
   "outputs": [
    {
     "name": "stdout",
     "output_type": "stream",
     "text": [
      "[7, 9, 11, 0, 2, 4, 6]\n",
      "\n"
     ]
    },
    {
     "data": {
      "image/png": "[encoded data removed]",
      "text/plain": [
       "<Figure size 432x288 with 1 Axes>"
      ]
     },
     "metadata": {
      "needs_background": "light"
     },
     "output_type": "display_data"
    }
   ],
   "source": [
    "print(music_scale)      # pitch%12 should be in this list\n",
    "\n",
    "df3 = FX3(df, music_scale)\n",
    "dict_note_count = count_note(df3.pitch)\n",
    "view_notes(dict_note_count)\n",
    "\n",
    "newmidi = mid_parser.MidiFile()\n",
    "newmidi = generalMIDI(df_general, newmidi)\n",
    "newmidi = instrumentMIDI(df_instruments, newmidi)\n",
    "newmidi = trackMIDI([df3], names, newmidi)\n",
    "newmidi.dump('./files/FX 3.mid')\n"
   ]
  },
  {
   "attachments": {},
   "cell_type": "markdown",
   "metadata": {},
   "source": [
    "## Fix 4 : Bridge\n",
    "\n",
    "**Aims to be smooth and dynamic**\n",
    "\n",
    "**To achieve the function, first compare with the previous one, then compare with the following one, finally make movement**\n",
    "\n",
    "The previous and the following ones are both higher, the outlier goes lower [E, D#, E] -> [E, D, E]\n",
    "\n",
    "The previous and the following ones are both lower, the outlier goes higher [D, D#, D] -> [D, E, D]\n",
    "\n",
    "The outlier is in the middle, then move closer to the center [C, D#, E] -> [C, D, E]\n",
    "\n",
    "The outlier is the center, then move away from the previous one [C, D#, F] -> [C, E, F]"
   ]
  },
  {
   "cell_type": "code",
   "execution_count": 9,
   "metadata": {},
   "outputs": [
    {
     "name": "stdout",
     "output_type": "stream",
     "text": [
      "[7, 9, 11, 0, 2, 4, 6]\n",
      "\n"
     ]
    },
    {
     "data": {
      "image/png": "[encoded data removed]",
      "text/plain": [
       "<Figure size 432x288 with 1 Axes>"
      ]
     },
     "metadata": {
      "needs_background": "light"
     },
     "output_type": "display_data"
    }
   ],
   "source": [
    "print(music_scale)      # pitch%12 should be in this list\n",
    "\n",
    "df4 = FX4(df, music_scale)\n",
    "dict_note_count = count_note(df4.pitch)\n",
    "view_notes(dict_note_count)\n",
    "\n",
    "newmidi = mid_parser.MidiFile()\n",
    "newmidi = generalMIDI(df_general, newmidi)\n",
    "newmidi = instrumentMIDI(df_instruments, newmidi)\n",
    "newmidi = trackMIDI([df4], names, newmidi)\n",
    "newmidi.dump('./files/FX 4.mid')"
   ]
  },
  {
   "attachments": {},
   "cell_type": "markdown",
   "metadata": {},
   "source": [
    "## 5. Further Plan\n",
    "\n",
    "After we can decide chord in each section, we have 2 possible note sets to move outliers to.\n",
    "\n",
    "set1 = {chord notes}\n",
    "\n",
    "set2 = {pentatonic notes}"
   ]
  }
 ],
 "metadata": {
  "kernelspec": {
   "display_name": "Python 3.9.1 64-bit",
   "language": "python",
   "name": "python3"
  },
  "language_info": {
   "codemirror_mode": {
    "name": "ipython",
    "version": 3
   },
   "file_extension": ".py",
   "mimetype": "text/x-python",
   "name": "python",
   "nbconvert_exporter": "python",
   "pygments_lexer": "ipython3",
   "version": "3.9.1"
  },
  "orig_nbformat": 4,
  "vscode": {
   "interpreter": {
    "hash": "313f8f4baf0bb9a96fcfd741838f783ab81c8d5c521a85acc9a67782169d3175"
   }
  }
 },
 "nbformat": 4,
 "nbformat_minor": 2
}
