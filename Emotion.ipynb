{
 "cells": [
  {
   "attachments": {},
   "cell_type": "markdown",
   "metadata": {},
   "source": [
    "# Machine Learning : Predicting Chord\n",
    "\n"
   ]
  },
  {
   "cell_type": "code",
   "execution_count": 2,
   "metadata": {},
   "outputs": [
    {
     "name": "stdout",
     "output_type": "stream",
     "text": [
      "Done\n"
     ]
    }
   ],
   "source": [
    "import numpy as np\n",
    "import matplotlib.pyplot as plt\n",
    "import pandas as pd\n",
    "from statistics import mean\n",
    "from statistics import median\n",
    "from miditoolkit.midi import parser as mid_parser  \n",
    "from miditoolkit.midi import containers as ct\n",
    "from chorder import Chord, Dechorder\n",
    "import os\n",
    "import math\n",
    "import numpy as np\n",
    "\n",
    "from tool_wave import *\n",
    "from tool_midi import *\n",
    "from tool_generate import *\n",
    "from tool_fix import *\n",
    "from tool_chord import *\n",
    "from tool_emotion import *\n",
    "\n",
    "print(\"Done\")"
   ]
  },
  {
   "attachments": {},
   "cell_type": "markdown",
   "metadata": {},
   "source": [
    "## 1. Data Preparation\n",
    "\n",
    "EMOPIA dataset contains midi files from 4 emotion categories."
   ]
  },
  {
   "cell_type": "code",
   "execution_count": 3,
   "metadata": {},
   "outputs": [],
   "source": [
    "path_Q1 = \"./EMOPIA/midis/Q1\"\n",
    "biglistQ1 = ChordPerSet(path_Q1)    # only chord names, in C scale"
   ]
  },
  {
   "attachments": {},
   "cell_type": "markdown",
   "metadata": {},
   "source": [
    "After we get chord name sequence from the midi dataset, we can turn music chords into NLP.\n",
    "\n",
    "The problem is now a word2vec CBOW model."
   ]
  },
  {
   "cell_type": "code",
   "execution_count": 4,
   "metadata": {},
   "outputs": [],
   "source": [
    "def XandY(song, window):\n",
    "    X = []\n",
    "    Y = []\n",
    "    for i in range(window, len(song)-window):\n",
    "        x = song[ i-window : i ] + song[ i+1 : i+window+1 ]\n",
    "        y = song[i]\n",
    "        X.append(x)\n",
    "        Y.append(y)\n",
    "    return X, Y\n",
    "\n",
    "def Content_Target(biglist, window):\n",
    "    content = []\n",
    "    target = []\n",
    "    for song in biglist:\n",
    "        X, Y = XandY(song, window)\n",
    "        content += X\n",
    "        target += Y\n",
    "    return content, target"
   ]
  },
  {
   "cell_type": "code",
   "execution_count": 5,
   "metadata": {},
   "outputs": [
    {
     "name": "stdout",
     "output_type": "stream",
     "text": [
      "(15643, 4) ['BbM7' 'BbM7' 'BbM7' 'Dm7']\n",
      "(15643,) BbM7\n"
     ]
    }
   ],
   "source": [
    "window = 2\n",
    "content, target = Content_Target(biglistQ1, window)\n",
    "\n",
    "content = np.array(content)\n",
    "target = np.array(target)\n",
    "print(content.shape, content[0])\n",
    "print(target.shape, target[0])"
   ]
  },
  {
   "cell_type": "code",
   "execution_count": 6,
   "metadata": {},
   "outputs": [
    {
     "name": "stdout",
     "output_type": "stream",
     "text": [
      "90\n"
     ]
    }
   ],
   "source": [
    "vocab =set({})\n",
    "for song in content:\n",
    "    vocab.update(song)\n",
    "print(len(vocab))\n",
    "\n",
    "word_to_id = {word: i for i, word in enumerate(vocab)}\n",
    "id_to_word = {i: word for i, word in enumerate(vocab)}"
   ]
  },
  {
   "cell_type": "code",
   "execution_count": 7,
   "metadata": {},
   "outputs": [
    {
     "data": {
      "text/plain": [
       "CM     2483\n",
       "FM7    1522\n",
       "GM     1430\n",
       "Am7    1421\n",
       "FM     1228\n",
       "CM7    1180\n",
       "Am      777\n",
       "Dm7     770\n",
       "Em7     621\n",
       "G7      570\n",
       "dtype: int64"
      ]
     },
     "execution_count": 7,
     "metadata": {},
     "output_type": "execute_result"
    }
   ],
   "source": [
    "mostused = pd.DataFrame(target).value_counts()\n",
    "mostused[:10]"
   ]
  },
  {
   "cell_type": "code",
   "execution_count": 8,
   "metadata": {},
   "outputs": [],
   "source": [
    "vocab_size = len(vocab)\n",
    "\n",
    "batch_size = 128\n",
    "embed_size = 128\n",
    "window = 2\n",
    "context_size = 2 * window\n",
    "\n",
    "valid_size = 16  # Random set of words to evaluate similarity on.\n",
    "valid_window = 100  # Only pick dev samples in the head of the distribution.\n",
    "valid_examples = np.random.choice(valid_window, valid_size, replace=False)\n",
    "num_sampled = 64  # Number of negative examples to sample."
   ]
  },
  {
   "cell_type": "code",
   "execution_count": 9,
   "metadata": {},
   "outputs": [
    {
     "name": "stdout",
     "output_type": "stream",
     "text": [
      "Vocabulary Size: 90\n",
      "Vocabulary Sample : [('Gm7', 0), ('Am7', 1), ('G#sus2', 2), ('B', 3)]\n",
      "Vocabulary Sample : [('B+', 86), ('EbM7', 87), ('Eo', 88), ('Bm7', 89)]\n"
     ]
    }
   ],
   "source": [
    "print(f\"Vocabulary Size: {vocab_size}\")\n",
    "print(f\"Vocabulary Sample : {list(word_to_id.items())[:4]}\")\n",
    "print(f\"Vocabulary Sample : {list(word_to_id.items())[-4:]}\")"
   ]
  },
  {
   "attachments": {},
   "cell_type": "markdown",
   "metadata": {},
   "source": [
    "## 2. Model Training"
   ]
  },
  {
   "cell_type": "code",
   "execution_count": 10,
   "metadata": {},
   "outputs": [],
   "source": [
    "import tensorflow as tf\n",
    "from tensorflow.keras.preprocessing import text, sequence\n",
    "from tensorflow.keras.utils import to_categorical\n",
    "\n",
    "from tensorflow.keras.models import Sequential\n",
    "from tensorflow.keras.layers import Reshape, Dense, Dropout\n",
    "from tensorflow.keras import models, callbacks"
   ]
  },
  {
   "cell_type": "code",
   "execution_count": 11,
   "metadata": {},
   "outputs": [
    {
     "name": "stdout",
     "output_type": "stream",
     "text": [
      "<class 'numpy.ndarray'> (15643, 4, 90)\n",
      "<class 'numpy.ndarray'> (15643, 90)\n",
      "4 90 90\n"
     ]
    }
   ],
   "source": [
    "# one-hot encoding\n",
    "features = np.array([[word_to_id[chord] for chord in chord4] for chord4 in content])\n",
    "features = tf.one_hot(features, depth=vocab_size)\n",
    "features = features.numpy()\n",
    "labels = np.array([word_to_id[chord] for chord in target])\n",
    "labels = tf.one_hot(labels, depth=vocab_size)\n",
    "labels = labels.numpy()\n",
    "\n",
    "a, b, c = features.shape[1], features.shape[2], labels.shape[1]\n",
    "\n",
    "print(type(features), features.shape)\n",
    "print(type(labels), labels.shape)\n",
    "print(a, b, c)"
   ]
  },
  {
   "cell_type": "code",
   "execution_count": 12,
   "metadata": {},
   "outputs": [
    {
     "name": "stdout",
     "output_type": "stream",
     "text": [
      "<class 'numpy.ndarray'> (10011, 4, 90)\n",
      "<class 'numpy.ndarray'> (10011, 90)\n"
     ]
    }
   ],
   "source": [
    "from sklearn.model_selection import train_test_split\n",
    "\n",
    "train_features, test_features, train_labels, test_labels = train_test_split(features, labels, test_size=0.2, random_state=28)\n",
    "train_features, val_features, train_labels, val_labels = train_test_split(train_features, train_labels, test_size=0.2, random_state=28)\n",
    "print(type(train_features), train_features.shape)\n",
    "print(type(train_labels), train_labels.shape)"
   ]
  },
  {
   "cell_type": "code",
   "execution_count": 13,
   "metadata": {},
   "outputs": [
    {
     "name": "stdout",
     "output_type": "stream",
     "text": [
      "Epoch 1/50\n",
      "40/40 [==============================] - 0s 5ms/step - loss: 3.8114 - accuracy: 0.3440 - val_loss: 2.8285 - val_accuracy: 0.4579\n",
      "Epoch 2/50\n",
      "40/40 [==============================] - 0s 3ms/step - loss: 2.1918 - accuracy: 0.5129 - val_loss: 1.8262 - val_accuracy: 0.5278\n",
      "Epoch 3/50\n",
      "40/40 [==============================] - 0s 3ms/step - loss: 1.5963 - accuracy: 0.5739 - val_loss: 1.4828 - val_accuracy: 0.5625\n",
      "Epoch 4/50\n",
      "40/40 [==============================] - 0s 3ms/step - loss: 1.3210 - accuracy: 0.6246 - val_loss: 1.2917 - val_accuracy: 0.6161\n",
      "Epoch 5/50\n",
      "40/40 [==============================] - 0s 3ms/step - loss: 1.1551 - accuracy: 0.6655 - val_loss: 1.1741 - val_accuracy: 0.6496\n",
      "Epoch 6/50\n",
      "40/40 [==============================] - 0s 3ms/step - loss: 1.0470 - accuracy: 0.6873 - val_loss: 1.0948 - val_accuracy: 0.6724\n",
      "Epoch 7/50\n",
      "40/40 [==============================] - 0s 3ms/step - loss: 0.9697 - accuracy: 0.7106 - val_loss: 1.0387 - val_accuracy: 0.6852\n",
      "Epoch 8/50\n",
      "40/40 [==============================] - 0s 3ms/step - loss: 0.9162 - accuracy: 0.7252 - val_loss: 1.0006 - val_accuracy: 0.6928\n",
      "Epoch 9/50\n",
      "40/40 [==============================] - 0s 3ms/step - loss: 0.8662 - accuracy: 0.7433 - val_loss: 0.9697 - val_accuracy: 0.7068\n",
      "Epoch 10/50\n",
      "40/40 [==============================] - 0s 3ms/step - loss: 0.8363 - accuracy: 0.7459 - val_loss: 0.9500 - val_accuracy: 0.7087\n",
      "Epoch 11/50\n",
      "40/40 [==============================] - 0s 3ms/step - loss: 0.8074 - accuracy: 0.7543 - val_loss: 0.9329 - val_accuracy: 0.7135\n",
      "Epoch 12/50\n",
      "40/40 [==============================] - 0s 3ms/step - loss: 0.7820 - accuracy: 0.7631 - val_loss: 0.9202 - val_accuracy: 0.7135\n",
      "Epoch 13/50\n",
      "40/40 [==============================] - 0s 3ms/step - loss: 0.7581 - accuracy: 0.7683 - val_loss: 0.9117 - val_accuracy: 0.7163\n",
      "Epoch 14/50\n",
      "40/40 [==============================] - 0s 3ms/step - loss: 0.7499 - accuracy: 0.7713 - val_loss: 0.9024 - val_accuracy: 0.7187\n",
      "Epoch 15/50\n",
      "40/40 [==============================] - 0s 3ms/step - loss: 0.7278 - accuracy: 0.7784 - val_loss: 0.8984 - val_accuracy: 0.7191\n",
      "Epoch 16/50\n",
      "40/40 [==============================] - 0s 3ms/step - loss: 0.7108 - accuracy: 0.7819 - val_loss: 0.8956 - val_accuracy: 0.7207\n",
      "Epoch 17/50\n",
      "40/40 [==============================] - 0s 3ms/step - loss: 0.6995 - accuracy: 0.7857 - val_loss: 0.8887 - val_accuracy: 0.7223\n",
      "Epoch 18/50\n",
      "40/40 [==============================] - 0s 3ms/step - loss: 0.6886 - accuracy: 0.7887 - val_loss: 0.8848 - val_accuracy: 0.7243\n",
      "Epoch 19/50\n",
      "40/40 [==============================] - 0s 3ms/step - loss: 0.6844 - accuracy: 0.7852 - val_loss: 0.8845 - val_accuracy: 0.7263\n",
      "Epoch 20/50\n",
      "40/40 [==============================] - 0s 3ms/step - loss: 0.6718 - accuracy: 0.7919 - val_loss: 0.8832 - val_accuracy: 0.7271\n",
      "Epoch 21/50\n",
      "40/40 [==============================] - 0s 3ms/step - loss: 0.6580 - accuracy: 0.7964 - val_loss: 0.8806 - val_accuracy: 0.7239\n",
      "Epoch 22/50\n",
      "40/40 [==============================] - 0s 3ms/step - loss: 0.6540 - accuracy: 0.7976 - val_loss: 0.8839 - val_accuracy: 0.7219\n",
      "Epoch 23/50\n",
      "40/40 [==============================] - 0s 3ms/step - loss: 0.6481 - accuracy: 0.7998 - val_loss: 0.8804 - val_accuracy: 0.7299\n",
      "Epoch 24/50\n",
      "40/40 [==============================] - 0s 3ms/step - loss: 0.6410 - accuracy: 0.7978 - val_loss: 0.8784 - val_accuracy: 0.7299\n",
      "Epoch 25/50\n",
      "40/40 [==============================] - 0s 3ms/step - loss: 0.6300 - accuracy: 0.8013 - val_loss: 0.8834 - val_accuracy: 0.7299\n",
      "Epoch 26/50\n",
      "40/40 [==============================] - 0s 2ms/step - loss: 0.6273 - accuracy: 0.8046 - val_loss: 0.8831 - val_accuracy: 0.7295\n",
      "Epoch 27/50\n",
      "40/40 [==============================] - 0s 2ms/step - loss: 0.6240 - accuracy: 0.8044 - val_loss: 0.8801 - val_accuracy: 0.7335\n",
      "Epoch 28/50\n",
      "40/40 [==============================] - 0s 2ms/step - loss: 0.6115 - accuracy: 0.8076 - val_loss: 0.8842 - val_accuracy: 0.7323\n",
      "Epoch 29/50\n",
      "40/40 [==============================] - 0s 2ms/step - loss: 0.6088 - accuracy: 0.8068 - val_loss: 0.8875 - val_accuracy: 0.7271\n"
     ]
    }
   ],
   "source": [
    "from tensorflow.keras.optimizers import Adam\n",
    "optimizer = Adam(learning_rate=0.001)\n",
    "\n",
    "model = Sequential([\n",
    "    Reshape((a*b, ), input_shape=(a, b)),\n",
    "    Dense(units=256, activation='relu'),\n",
    "    Dropout(0.3),\n",
    "    Dense(units=c, activation='softmax')\n",
    "])\n",
    "\n",
    "CB = [\n",
    "        callbacks.ModelCheckpoint(\n",
    "        filepath=\"fine_tuning.keras\",\n",
    "        save_best_only=True,\n",
    "        monitor=\"val_loss\"),\n",
    "\n",
    "        callbacks.EarlyStopping(\n",
    "        monitor='val_loss',\n",
    "        min_delta=0.0001,\n",
    "        patience=5)\n",
    "]\n",
    "\n",
    "model.compile(loss='categorical_crossentropy', optimizer=optimizer, metrics=['accuracy'])\n",
    "history = model.fit(train_features, train_labels, validation_data=(val_features, val_labels), \n",
    "                    batch_size=256, epochs=50, callbacks=CB, verbose=1)"
   ]
  },
  {
   "attachments": {},
   "cell_type": "markdown",
   "metadata": {},
   "source": [
    "## 3. Model Evaluation"
   ]
  },
  {
   "cell_type": "code",
   "execution_count": 14,
   "metadata": {},
   "outputs": [
    {
     "name": "stdout",
     "output_type": "stream",
     "text": [
      "98/98 [==============================] - 0s 628us/step - loss: 0.8318 - accuracy: 0.7549\n",
      "Test accuracy: 0.7548737525939941\n"
     ]
    }
   ],
   "source": [
    "test_loss, test_acc = model.evaluate(test_features, test_labels)\n",
    "print('Test accuracy:', test_acc)"
   ]
  },
  {
   "cell_type": "code",
   "execution_count": 15,
   "metadata": {},
   "outputs": [
    {
     "data": {
      "text/plain": [
       "<AxesSubplot:>"
      ]
     },
     "execution_count": 15,
     "metadata": {},
     "output_type": "execute_result"
    },
    {
     "data": {
      "image/png": "[encoded data removed]",
      "text/plain": [
       "<Figure size 432x288 with 1 Axes>"
      ]
     },
     "metadata": {
      "needs_background": "light"
     },
     "output_type": "display_data"
    },
    {
     "data": {
      "image/png": "[encoded data removed]",
      "text/plain": [
       "<Figure size 432x288 with 1 Axes>"
      ]
     },
     "metadata": {
      "needs_background": "light"
     },
     "output_type": "display_data"
    }
   ],
   "source": [
    "modelFinal = models.load_model(\"fine_tuning.keras\")\n",
    "df=pd.DataFrame(history.history)\n",
    "dfloss=df[['loss','val_loss']]\n",
    "dfloss.plot()\n",
    "dfAC=df[['accuracy','val_accuracy']]\n",
    "dfAC.plot()"
   ]
  },
  {
   "cell_type": "code",
   "execution_count": 16,
   "metadata": {},
   "outputs": [
    {
     "data": {
      "image/svg+xml": "<svg xmlns=\"http://www.w3.org/2000/svg\" xmlns:xlink=\"http://www.w3.org/1999/xlink\" width=\"234pt\" height=\"376pt\" viewBox=\"0.00 0.00 241.00 387.00\">\n<g id=\"graph0\" class=\"graph\" transform=\"scale(0.972222 0.972222) rotate(0) translate(4 383)\">\n<title>G</title>\n<polygon fill=\"white\" stroke=\"none\" points=\"-4,4 -4,-383 237,-383 237,4 -4,4\"/>\n<!-- 1583693004912 -->\n<g id=\"node1\" class=\"node\">\n<title>1583693004912</title>\n<polygon fill=\"none\" stroke=\"black\" points=\"0,-332.5 0,-378.5 233,-378.5 233,-332.5 0,-332.5\"/>\n<text text-anchor=\"middle\" x=\"38.5\" y=\"-351.8\" font-family=\"Times New Roman,serif\" font-size=\"14.00\">InputLayer</text>\n<polyline fill=\"none\" stroke=\"black\" points=\"77,-332.5 77,-378.5\"/>\n<text text-anchor=\"middle\" x=\"105\" y=\"-363.3\" font-family=\"Times New Roman,serif\" font-size=\"14.00\">input:</text>\n<polyline fill=\"none\" stroke=\"black\" points=\"77,-355.5 133,-355.5\"/>\n<text text-anchor=\"middle\" x=\"105\" y=\"-340.3\" font-family=\"Times New Roman,serif\" font-size=\"14.00\">output:</text>\n<polyline fill=\"none\" stroke=\"black\" points=\"133,-332.5 133,-378.5\"/>\n<text text-anchor=\"middle\" x=\"183\" y=\"-363.3\" font-family=\"Times New Roman,serif\" font-size=\"14.00\">[(None, 4, 90)]</text>\n<polyline fill=\"none\" stroke=\"black\" points=\"133,-355.5 233,-355.5\"/>\n<text text-anchor=\"middle\" x=\"183\" y=\"-340.3\" font-family=\"Times New Roman,serif\" font-size=\"14.00\">[(None, 4, 90)]</text>\n</g>\n<!-- 1583693005680 -->\n<g id=\"node2\" class=\"node\">\n<title>1583693005680</title>\n<polygon fill=\"none\" stroke=\"black\" points=\"10.5,-249.5 10.5,-295.5 222.5,-295.5 222.5,-249.5 10.5,-249.5\"/>\n<text text-anchor=\"middle\" x=\"43\" y=\"-268.8\" font-family=\"Times New Roman,serif\" font-size=\"14.00\">Reshape</text>\n<polyline fill=\"none\" stroke=\"black\" points=\"75.5,-249.5 75.5,-295.5\"/>\n<text text-anchor=\"middle\" x=\"103.5\" y=\"-280.3\" font-family=\"Times New Roman,serif\" font-size=\"14.00\">input:</text>\n<polyline fill=\"none\" stroke=\"black\" points=\"75.5,-272.5 131.5,-272.5\"/>\n<text text-anchor=\"middle\" x=\"103.5\" y=\"-257.3\" font-family=\"Times New Roman,serif\" font-size=\"14.00\">output:</text>\n<polyline fill=\"none\" stroke=\"black\" points=\"131.5,-249.5 131.5,-295.5\"/>\n<text text-anchor=\"middle\" x=\"177\" y=\"-280.3\" font-family=\"Times New Roman,serif\" font-size=\"14.00\">(None, 4, 90)</text>\n<polyline fill=\"none\" stroke=\"black\" points=\"131.5,-272.5 222.5,-272.5\"/>\n<text text-anchor=\"middle\" x=\"177\" y=\"-257.3\" font-family=\"Times New Roman,serif\" font-size=\"14.00\">(None, 360)</text>\n</g>\n<!-- 1583693004912&#45;&gt;1583693005680 -->\n<g id=\"edge1\" class=\"edge\">\n<title>1583693004912-&gt;1583693005680</title>\n<path fill=\"none\" stroke=\"black\" d=\"M116.5,-332.79C116.5,-324.71 116.5,-315.35 116.5,-306.48\"/>\n<polygon fill=\"black\" stroke=\"black\" points=\"120,-306.78 116.5,-296.78 113,-306.78 120,-306.78\"/>\n</g>\n<!-- 1583692943904 -->\n<g id=\"node3\" class=\"node\">\n<title>1583692943904</title>\n<polygon fill=\"none\" stroke=\"black\" points=\"21.5,-166.5 21.5,-212.5 211.5,-212.5 211.5,-166.5 21.5,-166.5\"/>\n<text text-anchor=\"middle\" x=\"47\" y=\"-185.8\" font-family=\"Times New Roman,serif\" font-size=\"14.00\">Dense</text>\n<polyline fill=\"none\" stroke=\"black\" points=\"72.5,-166.5 72.5,-212.5\"/>\n<text text-anchor=\"middle\" x=\"100.5\" y=\"-197.3\" font-family=\"Times New Roman,serif\" font-size=\"14.00\">input:</text>\n<polyline fill=\"none\" stroke=\"black\" points=\"72.5,-189.5 128.5,-189.5\"/>\n<text text-anchor=\"middle\" x=\"100.5\" y=\"-174.3\" font-family=\"Times New Roman,serif\" font-size=\"14.00\">output:</text>\n<polyline fill=\"none\" stroke=\"black\" points=\"128.5,-166.5 128.5,-212.5\"/>\n<text text-anchor=\"middle\" x=\"170\" y=\"-197.3\" font-family=\"Times New Roman,serif\" font-size=\"14.00\">(None, 360)</text>\n<polyline fill=\"none\" stroke=\"black\" points=\"128.5,-189.5 211.5,-189.5\"/>\n<text text-anchor=\"middle\" x=\"170\" y=\"-174.3\" font-family=\"Times New Roman,serif\" font-size=\"14.00\">(None, 256)</text>\n</g>\n<!-- 1583693005680&#45;&gt;1583692943904 -->\n<g id=\"edge2\" class=\"edge\">\n<title>1583693005680-&gt;1583692943904</title>\n<path fill=\"none\" stroke=\"black\" d=\"M116.5,-249.79C116.5,-241.71 116.5,-232.35 116.5,-223.48\"/>\n<polygon fill=\"black\" stroke=\"black\" points=\"120,-223.78 116.5,-213.78 113,-223.78 120,-223.78\"/>\n</g>\n<!-- 1583506909264 -->\n<g id=\"node4\" class=\"node\">\n<title>1583506909264</title>\n<polygon fill=\"none\" stroke=\"black\" points=\"15,-83.5 15,-129.5 218,-129.5 218,-83.5 15,-83.5\"/>\n<text text-anchor=\"middle\" x=\"47\" y=\"-102.8\" font-family=\"Times New Roman,serif\" font-size=\"14.00\">Dropout</text>\n<polyline fill=\"none\" stroke=\"black\" points=\"79,-83.5 79,-129.5\"/>\n<text text-anchor=\"middle\" x=\"107\" y=\"-114.3\" font-family=\"Times New Roman,serif\" font-size=\"14.00\">input:</text>\n<polyline fill=\"none\" stroke=\"black\" points=\"79,-106.5 135,-106.5\"/>\n<text text-anchor=\"middle\" x=\"107\" y=\"-91.3\" font-family=\"Times New Roman,serif\" font-size=\"14.00\">output:</text>\n<polyline fill=\"none\" stroke=\"black\" points=\"135,-83.5 135,-129.5\"/>\n<text text-anchor=\"middle\" x=\"176.5\" y=\"-114.3\" font-family=\"Times New Roman,serif\" font-size=\"14.00\">(None, 256)</text>\n<polyline fill=\"none\" stroke=\"black\" points=\"135,-106.5 218,-106.5\"/>\n<text text-anchor=\"middle\" x=\"176.5\" y=\"-91.3\" font-family=\"Times New Roman,serif\" font-size=\"14.00\">(None, 256)</text>\n</g>\n<!-- 1583692943904&#45;&gt;1583506909264 -->\n<g id=\"edge3\" class=\"edge\">\n<title>1583692943904-&gt;1583506909264</title>\n<path fill=\"none\" stroke=\"black\" d=\"M116.5,-166.79C116.5,-158.71 116.5,-149.35 116.5,-140.48\"/>\n<polygon fill=\"black\" stroke=\"black\" points=\"120,-140.78 116.5,-130.78 113,-140.78 120,-140.78\"/>\n</g>\n<!-- 1583693014592 -->\n<g id=\"node5\" class=\"node\">\n<title>1583693014592</title>\n<polygon fill=\"none\" stroke=\"black\" points=\"21.5,-0.5 21.5,-46.5 211.5,-46.5 211.5,-0.5 21.5,-0.5\"/>\n<text text-anchor=\"middle\" x=\"47\" y=\"-19.8\" font-family=\"Times New Roman,serif\" font-size=\"14.00\">Dense</text>\n<polyline fill=\"none\" stroke=\"black\" points=\"72.5,-0.5 72.5,-46.5\"/>\n<text text-anchor=\"middle\" x=\"100.5\" y=\"-31.3\" font-family=\"Times New Roman,serif\" font-size=\"14.00\">input:</text>\n<polyline fill=\"none\" stroke=\"black\" points=\"72.5,-23.5 128.5,-23.5\"/>\n<text text-anchor=\"middle\" x=\"100.5\" y=\"-8.3\" font-family=\"Times New Roman,serif\" font-size=\"14.00\">output:</text>\n<polyline fill=\"none\" stroke=\"black\" points=\"128.5,-0.5 128.5,-46.5\"/>\n<text text-anchor=\"middle\" x=\"170\" y=\"-31.3\" font-family=\"Times New Roman,serif\" font-size=\"14.00\">(None, 256)</text>\n<polyline fill=\"none\" stroke=\"black\" points=\"128.5,-23.5 211.5,-23.5\"/>\n<text text-anchor=\"middle\" x=\"170\" y=\"-8.3\" font-family=\"Times New Roman,serif\" font-size=\"14.00\">(None, 90)</text>\n</g>\n<!-- 1583506909264&#45;&gt;1583693014592 -->\n<g id=\"edge4\" class=\"edge\">\n<title>1583506909264-&gt;1583693014592</title>\n<path fill=\"none\" stroke=\"black\" d=\"M116.5,-83.79C116.5,-75.71 116.5,-66.35 116.5,-57.48\"/>\n<polygon fill=\"black\" stroke=\"black\" points=\"120,-57.78 116.5,-47.78 113,-57.78 120,-57.78\"/>\n</g>\n</g>\n</svg>",
      "text/plain": [
       "<IPython.core.display.SVG object>"
      ]
     },
     "execution_count": 16,
     "metadata": {},
     "output_type": "execute_result"
    }
   ],
   "source": [
    "from IPython.display import SVG\n",
    "from keras.utils.vis_utils import model_to_dot\n",
    "\n",
    "SVG(model_to_dot(modelFinal, show_shapes=True, show_layer_names=False, \n",
    "                 rankdir='TB', dpi=70).create(prog='dot', format='svg'))"
   ]
  },
  {
   "cell_type": "code",
   "execution_count": 17,
   "metadata": {},
   "outputs": [
    {
     "name": "stdout",
     "output_type": "stream",
     "text": [
      "Model: \"sequential\"\n",
      "_________________________________________________________________\n",
      " Layer (type)                Output Shape              Param #   \n",
      "=================================================================\n",
      " reshape (Reshape)           (None, 360)               0         \n",
      "                                                                 \n",
      " dense (Dense)               (None, 256)               92416     \n",
      "                                                                 \n",
      " dropout (Dropout)           (None, 256)               0         \n",
      "                                                                 \n",
      " dense_1 (Dense)             (None, 90)                23130     \n",
      "                                                                 \n",
      "=================================================================\n",
      "Total params: 115,546\n",
      "Trainable params: 115,546\n",
      "Non-trainable params: 0\n",
      "_________________________________________________________________\n"
     ]
    }
   ],
   "source": [
    "modelFinal.summary()"
   ]
  }
 ],
 "metadata": {
  "kernelspec": {
   "display_name": "Python 3.9.1 64-bit",
   "language": "python",
   "name": "python3"
  },
  "language_info": {
   "codemirror_mode": {
    "name": "ipython",
    "version": 3
   },
   "file_extension": ".py",
   "mimetype": "text/x-python",
   "name": "python",
   "nbconvert_exporter": "python",
   "pygments_lexer": "ipython3",
   "version": "3.9.1"
  },
  "orig_nbformat": 4,
  "vscode": {
   "interpreter": {
    "hash": "313f8f4baf0bb9a96fcfd741838f783ab81c8d5c521a85acc9a67782169d3175"
   }
  }
 },
 "nbformat": 4,
 "nbformat_minor": 2
}
